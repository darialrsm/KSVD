{
  "nbformat": 4,
  "nbformat_minor": 0,
  "metadata": {
    "colab": {
      "provenance": [],
      "authorship_tag": "ABX9TyMXeDZGGlsOJQns+Ci8Z+5n",
      "include_colab_link": true
    },
    "kernelspec": {
      "name": "python3",
      "display_name": "Python 3"
    },
    "language_info": {
      "name": "python"
    }
  },
  "cells": [
    {
      "cell_type": "markdown",
      "metadata": {
        "id": "view-in-github",
        "colab_type": "text"
      },
      "source": [
        "<a href=\"https://colab.research.google.com/github/darialrsm/KSVD/blob/main/Lab1.ipynb\" target=\"_parent\"><img src=\"https://colab.research.google.com/assets/colab-badge.svg\" alt=\"Open In Colab\"/></a>"
      ]
    },
    {
      "cell_type": "markdown",
      "source": [
        "**Лабораторна робота 1. Аналіз даних**"
      ],
      "metadata": {
        "id": "Z3v4I8mhNR2R"
      }
    },
    {
      "cell_type": "markdown",
      "source": [
        "Завдання №1"
      ],
      "metadata": {
        "id": "UyIhaDIINbYP"
      }
    },
    {
      "cell_type": "code",
      "source": [
        "import numpy as np"
      ],
      "metadata": {
        "id": "T05xDGxPNeg_"
      },
      "execution_count": 2,
      "outputs": []
    },
    {
      "cell_type": "code",
      "source": [
        "a = np.arange(1, 21)\n",
        "a"
      ],
      "metadata": {
        "colab": {
          "base_uri": "https://localhost:8080/"
        },
        "id": "eV7nXDWqO4dx",
        "outputId": "36e80a62-0e60-4253-8142-6840d5cbd69f"
      },
      "execution_count": 4,
      "outputs": [
        {
          "output_type": "execute_result",
          "data": {
            "text/plain": [
              "array([ 1,  2,  3,  4,  5,  6,  7,  8,  9, 10, 11, 12, 13, 14, 15, 16, 17,\n",
              "       18, 19, 20])"
            ]
          },
          "metadata": {},
          "execution_count": 4
        }
      ]
    },
    {
      "cell_type": "markdown",
      "source": [
        "Завдання №1 (2)"
      ],
      "metadata": {
        "id": "CfJWaawAPD32"
      }
    },
    {
      "cell_type": "code",
      "source": [
        "b = np.ones((4, 4), dtype=int)\n",
        "b"
      ],
      "metadata": {
        "colab": {
          "base_uri": "https://localhost:8080/"
        },
        "id": "N78I196uPGLc",
        "outputId": "704b3ac7-8b9a-4c1d-f08e-37358f9b9ec8"
      },
      "execution_count": 6,
      "outputs": [
        {
          "output_type": "execute_result",
          "data": {
            "text/plain": [
              "array([[1, 1, 1, 1],\n",
              "       [1, 1, 1, 1],\n",
              "       [1, 1, 1, 1],\n",
              "       [1, 1, 1, 1]])"
            ]
          },
          "metadata": {},
          "execution_count": 6
        }
      ]
    },
    {
      "cell_type": "markdown",
      "source": [
        "Завдання №2"
      ],
      "metadata": {
        "id": "6g4P7V9YPhqv"
      }
    },
    {
      "cell_type": "code",
      "source": [
        "c = np.random.uniform(-1, 1, (5, 5))\n",
        "c"
      ],
      "metadata": {
        "colab": {
          "base_uri": "https://localhost:8080/"
        },
        "id": "gW5OesWkPjaj",
        "outputId": "1e56306e-d9ae-4386-c464-8749ec7761af"
      },
      "execution_count": 7,
      "outputs": [
        {
          "output_type": "execute_result",
          "data": {
            "text/plain": [
              "array([[-0.00101285, -0.76167815, -0.47521662,  0.33810706, -0.70011018],\n",
              "       [ 0.12132312,  0.76992516,  0.02127686,  0.63221607,  0.43935793],\n",
              "       [-0.96273563, -0.69887696, -0.71720832,  0.85876501, -0.53539779],\n",
              "       [ 0.34409389,  0.22442546,  0.52172663, -0.33215945, -0.61314613],\n",
              "       [-0.76260607,  0.36090033,  0.82001014,  0.68458669,  0.20395423]])"
            ]
          },
          "metadata": {},
          "execution_count": 7
        }
      ]
    },
    {
      "cell_type": "markdown",
      "source": [
        "Завдання №3"
      ],
      "metadata": {
        "id": "VUjc0-AFQfvV"
      }
    },
    {
      "cell_type": "code",
      "source": [
        "d = np.random.random((3, 3))\n",
        "d"
      ],
      "metadata": {
        "colab": {
          "base_uri": "https://localhost:8080/"
        },
        "id": "xJfI0zTVQhnD",
        "outputId": "15c5a09a-e1ba-43db-9d3a-28926e59fc0c"
      },
      "execution_count": 9,
      "outputs": [
        {
          "output_type": "execute_result",
          "data": {
            "text/plain": [
              "array([[0.38494843, 0.99397529, 0.00251114],\n",
              "       [0.85653351, 0.85668959, 0.25234916],\n",
              "       [0.31373677, 0.73224327, 0.09839891]])"
            ]
          },
          "metadata": {},
          "execution_count": 9
        }
      ]
    },
    {
      "cell_type": "markdown",
      "source": [
        "Завдання №4"
      ],
      "metadata": {
        "id": "lICTU0HoQz_9"
      }
    },
    {
      "cell_type": "code",
      "source": [
        "e1 = np.random.randint(1, 21, 6)\n",
        "e2 = np.random.randint(1, 21, 6)\n",
        "print(e1)\n",
        "print(e2)\n",
        "print(e1 + e2)\n",
        "print(e1 - e2)\n",
        "print(e1 * e2)"
      ],
      "metadata": {
        "colab": {
          "base_uri": "https://localhost:8080/"
        },
        "id": "HFp9sOPzQ1Qt",
        "outputId": "10353dce-2c0b-4876-b813-df515e306675"
      },
      "execution_count": 12,
      "outputs": [
        {
          "output_type": "stream",
          "name": "stdout",
          "text": [
            "[ 9  5 13  7  4  9]\n",
            "[ 7  1 18 10 11  7]\n",
            "[16  6 31 17 15 16]\n",
            "[ 2  4 -5 -3 -7  2]\n",
            "[ 63   5 234  70  44  63]\n"
          ]
        }
      ]
    },
    {
      "cell_type": "markdown",
      "source": [
        "Завдання №5"
      ],
      "metadata": {
        "id": "t-oCc4g6RzSN"
      }
    },
    {
      "cell_type": "code",
      "source": [
        "m1 = np.random.randint(1, 6, (3, 2))\n",
        "m2 = np.random.randint(1, 6, (2, 4))\n",
        "print(\"Матриця 1\\n\", m1)\n",
        "print(\"Матриця 2\\n\", m2)\n",
        "print(\"Результат\\n\", np.dot(m1, m2))"
      ],
      "metadata": {
        "colab": {
          "base_uri": "https://localhost:8080/"
        },
        "id": "M3SB3WDqR2cG",
        "outputId": "87573915-8a5c-444e-c895-bc3bed110802"
      },
      "execution_count": 21,
      "outputs": [
        {
          "output_type": "stream",
          "name": "stdout",
          "text": [
            "Матриця 1\n",
            " [[5 4]\n",
            " [1 5]\n",
            " [1 2]]\n",
            "Матриця 2\n",
            " [[5 4 5 2]\n",
            " [1 3 5 1]]\n",
            "Результат\n",
            " [[29 32 45 14]\n",
            " [10 19 30  7]\n",
            " [ 7 10 15  4]]\n"
          ]
        }
      ]
    },
    {
      "cell_type": "markdown",
      "source": [
        "Завдання №6"
      ],
      "metadata": {
        "id": "LFlRfaBYTH6G"
      }
    },
    {
      "cell_type": "code",
      "source": [
        "m3 = np.random.rand(3, 3)\n",
        "m4 = m3.T\n",
        "print(\"Початкова матриця \\n\", m3)\n",
        "print(\"Транспонована матриця \\n\",m4)"
      ],
      "metadata": {
        "colab": {
          "base_uri": "https://localhost:8080/"
        },
        "id": "D2qpB_PFTJj-",
        "outputId": "c03321ef-46b3-41f5-da17-8b42cfada34b"
      },
      "execution_count": 24,
      "outputs": [
        {
          "output_type": "stream",
          "name": "stdout",
          "text": [
            "Початкова матриця \n",
            " [[0.65839711 0.66415876 0.2197218 ]\n",
            " [0.76758574 0.13062563 0.45390578]\n",
            " [0.95215458 0.9908073  0.18908469]]\n",
            "Транспонована матриця \n",
            " [[0.65839711 0.76758574 0.95215458]\n",
            " [0.66415876 0.13062563 0.9908073 ]\n",
            " [0.2197218  0.45390578 0.18908469]]\n"
          ]
        }
      ]
    },
    {
      "cell_type": "markdown",
      "source": [
        "Завдання №7"
      ],
      "metadata": {
        "id": "7rH19BhIU7o8"
      }
    },
    {
      "cell_type": "code",
      "source": [
        "m5 = np.random.randint(1, 11, (3, 3))\n",
        "m6 = np.random.randint(1, 11, (3, 3))\n",
        "print(\"Матриця 1 \\n\", m5)\n",
        "print(\"Матриця 2 \\n\", m6)\n",
        "print(\"Різниця \\n\", m5 - m6)"
      ],
      "metadata": {
        "colab": {
          "base_uri": "https://localhost:8080/"
        },
        "id": "50tZrfnJTreJ",
        "outputId": "05eab85e-d71b-44f9-e8aa-1744d19c3e26"
      },
      "execution_count": 29,
      "outputs": [
        {
          "output_type": "stream",
          "name": "stdout",
          "text": [
            "Матриця 1 \n",
            " [[ 8  1 10]\n",
            " [ 2  3  4]\n",
            " [ 4  7  1]]\n",
            "Матриця 2 \n",
            " [[4 9 5]\n",
            " [6 3 7]\n",
            " [1 4 5]]\n",
            "Різниця \n",
            " [[ 4 -8  5]\n",
            " [-4  0 -3]\n",
            " [ 3  3 -4]]\n"
          ]
        }
      ]
    },
    {
      "cell_type": "markdown",
      "source": [
        "Завдання №8"
      ],
      "metadata": {
        "id": "-W90BMEUU_JE"
      }
    },
    {
      "cell_type": "code",
      "source": [
        "m7 = np.random.randint(-5, 6, (3, 3))\n",
        "m8 = np.random.randint(-5, 6, (3, 3))\n",
        "print(\"Матриця 1 \\n\", m7)\n",
        "print(\"Матриця 2 \\n\", m8)\n",
        "print(\"Добуток \\n\", m7 * m8)"
      ],
      "metadata": {
        "colab": {
          "base_uri": "https://localhost:8080/"
        },
        "id": "UbAKJSSjVBgK",
        "outputId": "3b425a78-2c7f-40c1-866b-29c471ed4eb6"
      },
      "execution_count": 35,
      "outputs": [
        {
          "output_type": "stream",
          "name": "stdout",
          "text": [
            "Матриця 1 \n",
            " [[ 2 -2 -1]\n",
            " [-4  5 -4]\n",
            " [-5 -5  4]]\n",
            "Матриця 2 \n",
            " [[-4  3  4]\n",
            " [-2  5 -1]\n",
            " [-4  5  5]]\n",
            "Добуток \n",
            " [[ -8  -6  -4]\n",
            " [  8  25   4]\n",
            " [ 20 -25  20]]\n"
          ]
        }
      ]
    },
    {
      "cell_type": "markdown",
      "source": [
        "Завдання №9"
      ],
      "metadata": {
        "id": "40EIhJemV50z"
      }
    },
    {
      "cell_type": "code",
      "source": [
        "m9 = np.random.uniform(-1, 1, (3, 3))\n",
        "sum = np.sum(m9, axis=1).reshape(-1, 1)\n",
        "print(m9)\n",
        "print(\"Сума елементів рядків \\n\", sum)"
      ],
      "metadata": {
        "colab": {
          "base_uri": "https://localhost:8080/"
        },
        "id": "76r8R8KIV7TI",
        "outputId": "949ac8cf-8d07-48ca-d02d-74b25d6990e4"
      },
      "execution_count": 37,
      "outputs": [
        {
          "output_type": "stream",
          "name": "stdout",
          "text": [
            "[[ 0.17169158 -0.14989625 -0.1585368 ]\n",
            " [-0.11803432 -0.81713854  0.68713864]\n",
            " [-0.67540223  0.58302854 -0.82164458]]\n",
            "Сума елементів рядків \n",
            " [[-0.13674147]\n",
            " [-0.24803422]\n",
            " [-0.91401828]]\n"
          ]
        }
      ]
    },
    {
      "cell_type": "code",
      "source": [],
      "metadata": {
        "id": "gYYIe7--Whzn"
      },
      "execution_count": null,
      "outputs": []
    }
  ]
}